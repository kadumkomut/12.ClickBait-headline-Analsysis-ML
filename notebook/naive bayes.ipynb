{
 "cells": [
  {
   "cell_type": "code",
   "execution_count": 15,
   "id": "68ea88bd",
   "metadata": {},
   "outputs": [],
   "source": [
    "import pandas as pd"
   ]
  },
  {
   "cell_type": "code",
   "execution_count": 16,
   "id": "ad1940c5",
   "metadata": {},
   "outputs": [],
   "source": [
    "data = pd.read_csv('../dataset/clickbait_data.csv');"
   ]
  },
  {
   "cell_type": "code",
   "execution_count": 17,
   "id": "b3d19bce",
   "metadata": {},
   "outputs": [],
   "source": [
    "import nltk\n",
    "import re\n",
    "from nltk.corpus import stopwords\n",
    "from nltk.stem.porter import PorterStemmer\n",
    "from nltk.stem import WordNetLemmatizer"
   ]
  },
  {
   "cell_type": "code",
   "execution_count": 18,
   "id": "83e2c3db",
   "metadata": {},
   "outputs": [],
   "source": [
    "# Lemmatization object\n",
    "ps = WordNetLemmatizer()\n",
    "corpus = []"
   ]
  },
  {
   "cell_type": "code",
   "execution_count": 19,
   "id": "858e2039",
   "metadata": {},
   "outputs": [],
   "source": [
    "# Text preprocessing\n",
    "# keep only text based\n",
    "# lower all the letters\n",
    "# split the words\n",
    "# for i in range(0,len(data)):\n",
    "#     review = re.sub('[^a-zA-Z0-9]',\" \",data['headline'][i])\n",
    "#     review = review.lower()\n",
    "#     review = review.split()\n",
    "#     review = [ps.lemmatize(word) for word in review if not word in stopwords.words('english')]\n",
    "#     review = ' '.join(review)\n",
    "#     corpus.append(review)"
   ]
  },
  {
   "cell_type": "code",
   "execution_count": 20,
   "id": "c33a2e15",
   "metadata": {},
   "outputs": [],
   "source": [
    "# pd.DataFrame(corpus).to_csv('processed_data.csv');\n",
    "clean_data = pd.read_csv('processed_data.csv')\n",
    "corpus_clean_data = clean_data.to_numpy().flatten()\n",
    "corpus_clean_data_usable = corpus_clean_data.tolist()"
   ]
  },
  {
   "cell_type": "code",
   "execution_count": 21,
   "id": "839410a8",
   "metadata": {},
   "outputs": [],
   "source": [
    "from sklearn.feature_extraction.text import CountVectorizer\n",
    "cv = CountVectorizer(ngram_range=(1,2),max_features=80000)\n",
    "X = cv.fit_transform(corpus_clean_data_usable)"
   ]
  },
  {
   "cell_type": "code",
   "execution_count": 22,
   "id": "c61cc4c3",
   "metadata": {},
   "outputs": [],
   "source": [
    "y = data['clickbait'].to_numpy()"
   ]
  },
  {
   "cell_type": "raw",
   "id": "d409120f",
   "metadata": {},
   "source": [
    "#train test split\n",
    "from sklearn.model_selection import train_test_split\n",
    "X_train, X_test,y_train,y_test = train_test_split(X,y,test_size=0.20)"
   ]
  },
  {
   "cell_type": "code",
   "execution_count": 29,
   "id": "59a4f932",
   "metadata": {},
   "outputs": [],
   "source": [
    "#training model using Naive bayes classifier\n",
    "\n",
    "from sklearn.naive_bayes import MultinomialNB\n",
    "model = MultinomialNB().fit(X_train,y_train)\n",
    "\n",
    "# predict \n",
    "y_pred = model.predict(X_test)"
   ]
  },
  {
   "cell_type": "code",
   "execution_count": 30,
   "id": "1deedf02",
   "metadata": {},
   "outputs": [
    {
     "data": {
      "text/plain": [
       "array([[3054,  130],\n",
       "       [ 111, 3105]], dtype=int64)"
      ]
     },
     "execution_count": 30,
     "metadata": {},
     "output_type": "execute_result"
    }
   ],
   "source": [
    "from sklearn.metrics import confusion_matrix\n",
    "confusion_matrix(y_test, y_pred)"
   ]
  },
  {
   "cell_type": "code",
   "execution_count": 31,
   "id": "00de6b9e",
   "metadata": {},
   "outputs": [
    {
     "data": {
      "text/plain": [
       "0.96234375"
      ]
     },
     "execution_count": 31,
     "metadata": {},
     "output_type": "execute_result"
    }
   ],
   "source": [
    "from sklearn.metrics import accuracy_score\n",
    "accuracy_score(y_test,y_pred)"
   ]
  },
  {
   "cell_type": "code",
   "execution_count": 32,
   "id": "7026f413",
   "metadata": {},
   "outputs": [
    {
     "name": "stdout",
     "output_type": "stream",
     "text": [
      "not clickbait\n",
      "99.99840411931584\n"
     ]
    }
   ],
   "source": [
    "# Checking the training model with custom input data\n",
    "positive_message = \"27 Reasons Why Celebrities Love THIS Product\"\n",
    "negative_message = \"Bill Changing Credit Card Rules Is Sent to Obama With Gun Measure Included\"\n",
    "message = [negative_message]\n",
    "vect = cv.transform(message).toarray()\n",
    "my_prediction = model.predict(vect)\n",
    "my_prediction_prob = model.predict_proba(vect)\n",
    "if my_prediction==1:\n",
    "    print(\"clickbait\")\n",
    "    print(my_prediction_prob[0][1]*100)\n",
    "else:\n",
    "    print(\"not clickbait\")\n",
    "    print(my_prediction_prob[0][0]*100)"
   ]
  },
  {
   "cell_type": "code",
   "execution_count": 14,
   "id": "f8f4e25f",
   "metadata": {},
   "outputs": [],
   "source": [
    "# Dump the machine learning model outsite so you can use outsite and not retrain again and again\n",
    "# import pickle\n",
    "# filename = 'clickbait_model.pkl'\n",
    "# pickle.dump(model, open(filename, 'wb'))\n",
    "# pickle.dump(cv, open('clickbait_transform.pkl', 'wb'))"
   ]
  }
 ],
 "metadata": {
  "kernelspec": {
   "display_name": "Python 3",
   "language": "python",
   "name": "python3"
  },
  "language_info": {
   "codemirror_mode": {
    "name": "ipython",
    "version": 3
   },
   "file_extension": ".py",
   "mimetype": "text/x-python",
   "name": "python",
   "nbconvert_exporter": "python",
   "pygments_lexer": "ipython3",
   "version": "3.8.8"
  }
 },
 "nbformat": 4,
 "nbformat_minor": 5
}
